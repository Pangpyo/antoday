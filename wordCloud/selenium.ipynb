{
 "cells": [
  {
   "cell_type": "markdown",
   "metadata": {},
   "source": [
    "### 셀레니움 활용한 거\n",
    "- 웹드라이버 116버전 다운 완료"
   ]
  },
  {
   "cell_type": "code",
   "execution_count": 1,
   "metadata": {},
   "outputs": [
    {
     "name": "stdout",
     "output_type": "stream",
     "text": [
      "Requirement already satisfied: selenium in c:\\users\\ssafy\\appdata\\local\\programs\\python\\python39\\lib\\site-packages (4.12.0)\n",
      "Requirement already satisfied: urllib3[socks]<3,>=1.26 in c:\\users\\ssafy\\appdata\\local\\programs\\python\\python39\\lib\\site-packages (from selenium) (2.0.4)\n",
      "Requirement already satisfied: trio~=0.17 in c:\\users\\ssafy\\appdata\\local\\programs\\python\\python39\\lib\\site-packages (from selenium) (0.22.2)\n",
      "Requirement already satisfied: trio-websocket~=0.9 in c:\\users\\ssafy\\appdata\\local\\programs\\python\\python39\\lib\\site-packages (from selenium) (0.10.4)\n",
      "Requirement already satisfied: certifi>=2021.10.8 in c:\\users\\ssafy\\appdata\\local\\programs\\python\\python39\\lib\\site-packages (from selenium) (2023.7.22)\n",
      "Requirement already satisfied: attrs>=20.1.0 in c:\\users\\ssafy\\appdata\\local\\programs\\python\\python39\\lib\\site-packages (from trio~=0.17->selenium) (23.1.0)\n",
      "Requirement already satisfied: sortedcontainers in c:\\users\\ssafy\\appdata\\local\\programs\\python\\python39\\lib\\site-packages (from trio~=0.17->selenium) (2.4.0)\n",
      "Requirement already satisfied: idna in c:\\users\\ssafy\\appdata\\local\\programs\\python\\python39\\lib\\site-packages (from trio~=0.17->selenium) (3.4)\n",
      "Requirement already satisfied: outcome in c:\\users\\ssafy\\appdata\\local\\programs\\python\\python39\\lib\\site-packages (from trio~=0.17->selenium) (1.2.0)\n",
      "Requirement already satisfied: sniffio in c:\\users\\ssafy\\appdata\\local\\programs\\python\\python39\\lib\\site-packages (from trio~=0.17->selenium) (1.3.0)\n",
      "Requirement already satisfied: cffi>=1.14 in c:\\users\\ssafy\\appdata\\local\\programs\\python\\python39\\lib\\site-packages (from trio~=0.17->selenium) (1.15.1)\n",
      "Requirement already satisfied: exceptiongroup>=1.0.0rc9 in c:\\users\\ssafy\\appdata\\local\\programs\\python\\python39\\lib\\site-packages (from trio~=0.17->selenium) (1.1.2)\n",
      "Requirement already satisfied: wsproto>=0.14 in c:\\users\\ssafy\\appdata\\local\\programs\\python\\python39\\lib\\site-packages (from trio-websocket~=0.9->selenium) (1.2.0)\n",
      "Requirement already satisfied: pysocks!=1.5.7,<2.0,>=1.5.6 in c:\\users\\ssafy\\appdata\\local\\programs\\python\\python39\\lib\\site-packages (from urllib3[socks]<3,>=1.26->selenium) (1.7.1)\n",
      "Requirement already satisfied: pycparser in c:\\users\\ssafy\\appdata\\local\\programs\\python\\python39\\lib\\site-packages (from cffi>=1.14->trio~=0.17->selenium) (2.21)\n",
      "Requirement already satisfied: h11<1,>=0.9.0 in c:\\users\\ssafy\\appdata\\local\\programs\\python\\python39\\lib\\site-packages (from wsproto>=0.14->trio-websocket~=0.9->selenium) (0.14.0)\n",
      "Note: you may need to restart the kernel to use updated packages.\n"
     ]
    }
   ],
   "source": [
    "pip install selenium"
   ]
  },
  {
   "cell_type": "code",
   "execution_count": 2,
   "metadata": {},
   "outputs": [
    {
     "ename": "StaleElementReferenceException",
     "evalue": "Message: stale element reference: stale element not found\n  (Session info: chrome=116.0.5845.180); For documentation on this error, please visit: https://www.selenium.dev/documentation/webdriver/troubleshooting/errors#stale-element-reference-exception\nStacktrace:\n\tGetHandleVerifier [0x00007FF722AC52A2+57122]\n\t(No symbol) [0x00007FF722A3EA92]\n\t(No symbol) [0x00007FF72290E3AB]\n\t(No symbol) [0x00007FF72291ABC3]\n\t(No symbol) [0x00007FF722912719]\n\t(No symbol) [0x00007FF72291167A]\n\t(No symbol) [0x00007FF722913D2F]\n\t(No symbol) [0x00007FF722913E20]\n\t(No symbol) [0x00007FF7229479B1]\n\t(No symbol) [0x00007FF722947E2C]\n\t(No symbol) [0x00007FF72293EC3C]\n\t(No symbol) [0x00007FF72296701F]\n\t(No symbol) [0x00007FF72293EB76]\n\t(No symbol) [0x00007FF7229671F0]\n\t(No symbol) [0x00007FF72297EB82]\n\t(No symbol) [0x00007FF722966DB3]\n\t(No symbol) [0x00007FF72293D2B1]\n\t(No symbol) [0x00007FF72293E494]\n\tGetHandleVerifier [0x00007FF722D6EF82+2849794]\n\tGetHandleVerifier [0x00007FF722DC1D24+3189156]\n\tGetHandleVerifier [0x00007FF722DBACAF+3160367]\n\tGetHandleVerifier [0x00007FF722B56D06+653702]\n\t(No symbol) [0x00007FF722A4A208]\n\t(No symbol) [0x00007FF722A462C4]\n\t(No symbol) [0x00007FF722A463F6]\n\t(No symbol) [0x00007FF722A367A3]\n\tBaseThreadInitThunk [0x00007FFA60617614+20]\n\tRtlUserThreadStart [0x00007FFA621C26B1+33]\n",
     "output_type": "error",
     "traceback": [
      "\u001b[1;31m---------------------------------------------------------------------------\u001b[0m",
      "\u001b[1;31mStaleElementReferenceException\u001b[0m            Traceback (most recent call last)",
      "\u001b[1;32mc:\\Users\\SSAFY\\Desktop\\S09P22E107\\wordCloud\\selenium.ipynb Cell 2\u001b[0m line \u001b[0;36m4\n\u001b[0;32m     <a href='vscode-notebook-cell:/c%3A/Users/SSAFY/Desktop/S09P22E107/wordCloud/selenium.ipynb#W1sZmlsZQ%3D%3D?line=38'>39</a>\u001b[0m \u001b[39m# 뉴스 기사 목록을 순회하며 제목과 본문 수집\u001b[39;00m\n\u001b[0;32m     <a href='vscode-notebook-cell:/c%3A/Users/SSAFY/Desktop/S09P22E107/wordCloud/selenium.ipynb#W1sZmlsZQ%3D%3D?line=39'>40</a>\u001b[0m \u001b[39mfor\u001b[39;00m article \u001b[39min\u001b[39;00m news_list:\n\u001b[0;32m     <a href='vscode-notebook-cell:/c%3A/Users/SSAFY/Desktop/S09P22E107/wordCloud/selenium.ipynb#W1sZmlsZQ%3D%3D?line=40'>41</a>\u001b[0m     \u001b[39m# 뉴스 제목 추출\u001b[39;00m\n\u001b[1;32m---> <a href='vscode-notebook-cell:/c%3A/Users/SSAFY/Desktop/S09P22E107/wordCloud/selenium.ipynb#W1sZmlsZQ%3D%3D?line=41'>42</a>\u001b[0m     title \u001b[39m=\u001b[39m article\u001b[39m.\u001b[39;49mfind_element(By\u001b[39m.\u001b[39;49mTAG_NAME, \u001b[39m\"\u001b[39;49m\u001b[39mdd\u001b[39;49m\u001b[39m\"\u001b[39;49m)\u001b[39m.\u001b[39mtext\u001b[39m.\u001b[39mstrip()\n\u001b[0;32m     <a href='vscode-notebook-cell:/c%3A/Users/SSAFY/Desktop/S09P22E107/wordCloud/selenium.ipynb#W1sZmlsZQ%3D%3D?line=43'>44</a>\u001b[0m     \u001b[39m# 뉴스 본문 링크 가져오기\u001b[39;00m\n\u001b[0;32m     <a href='vscode-notebook-cell:/c%3A/Users/SSAFY/Desktop/S09P22E107/wordCloud/selenium.ipynb#W1sZmlsZQ%3D%3D?line=44'>45</a>\u001b[0m     article_link \u001b[39m=\u001b[39m article\u001b[39m.\u001b[39mfind_element(By\u001b[39m.\u001b[39mTAG_NAME, \u001b[39m\"\u001b[39m\u001b[39ma\u001b[39m\u001b[39m\"\u001b[39m)\u001b[39m.\u001b[39mget_attribute(\u001b[39m\"\u001b[39m\u001b[39mhref\u001b[39m\u001b[39m\"\u001b[39m)\n",
      "File \u001b[1;32mc:\\Users\\SSAFY\\AppData\\Local\\Programs\\Python\\Python39\\lib\\site-packages\\selenium\\webdriver\\remote\\webelement.py:416\u001b[0m, in \u001b[0;36mWebElement.find_element\u001b[1;34m(self, by, value)\u001b[0m\n\u001b[0;32m    413\u001b[0m     by \u001b[39m=\u001b[39m By\u001b[39m.\u001b[39mCSS_SELECTOR\n\u001b[0;32m    414\u001b[0m     value \u001b[39m=\u001b[39m \u001b[39mf\u001b[39m\u001b[39m'\u001b[39m\u001b[39m[name=\u001b[39m\u001b[39m\"\u001b[39m\u001b[39m{\u001b[39;00mvalue\u001b[39m}\u001b[39;00m\u001b[39m\"\u001b[39m\u001b[39m]\u001b[39m\u001b[39m'\u001b[39m\n\u001b[1;32m--> 416\u001b[0m \u001b[39mreturn\u001b[39;00m \u001b[39mself\u001b[39;49m\u001b[39m.\u001b[39;49m_execute(Command\u001b[39m.\u001b[39;49mFIND_CHILD_ELEMENT, {\u001b[39m\"\u001b[39;49m\u001b[39musing\u001b[39;49m\u001b[39m\"\u001b[39;49m: by, \u001b[39m\"\u001b[39;49m\u001b[39mvalue\u001b[39;49m\u001b[39m\"\u001b[39;49m: value})[\u001b[39m\"\u001b[39m\u001b[39mvalue\u001b[39m\u001b[39m\"\u001b[39m]\n",
      "File \u001b[1;32mc:\\Users\\SSAFY\\AppData\\Local\\Programs\\Python\\Python39\\lib\\site-packages\\selenium\\webdriver\\remote\\webelement.py:394\u001b[0m, in \u001b[0;36mWebElement._execute\u001b[1;34m(self, command, params)\u001b[0m\n\u001b[0;32m    392\u001b[0m     params \u001b[39m=\u001b[39m {}\n\u001b[0;32m    393\u001b[0m params[\u001b[39m\"\u001b[39m\u001b[39mid\u001b[39m\u001b[39m\"\u001b[39m] \u001b[39m=\u001b[39m \u001b[39mself\u001b[39m\u001b[39m.\u001b[39m_id\n\u001b[1;32m--> 394\u001b[0m \u001b[39mreturn\u001b[39;00m \u001b[39mself\u001b[39;49m\u001b[39m.\u001b[39;49m_parent\u001b[39m.\u001b[39;49mexecute(command, params)\n",
      "File \u001b[1;32mc:\\Users\\SSAFY\\AppData\\Local\\Programs\\Python\\Python39\\lib\\site-packages\\selenium\\webdriver\\remote\\webdriver.py:344\u001b[0m, in \u001b[0;36mWebDriver.execute\u001b[1;34m(self, driver_command, params)\u001b[0m\n\u001b[0;32m    342\u001b[0m response \u001b[39m=\u001b[39m \u001b[39mself\u001b[39m\u001b[39m.\u001b[39mcommand_executor\u001b[39m.\u001b[39mexecute(driver_command, params)\n\u001b[0;32m    343\u001b[0m \u001b[39mif\u001b[39;00m response:\n\u001b[1;32m--> 344\u001b[0m     \u001b[39mself\u001b[39;49m\u001b[39m.\u001b[39;49merror_handler\u001b[39m.\u001b[39;49mcheck_response(response)\n\u001b[0;32m    345\u001b[0m     response[\u001b[39m\"\u001b[39m\u001b[39mvalue\u001b[39m\u001b[39m\"\u001b[39m] \u001b[39m=\u001b[39m \u001b[39mself\u001b[39m\u001b[39m.\u001b[39m_unwrap_value(response\u001b[39m.\u001b[39mget(\u001b[39m\"\u001b[39m\u001b[39mvalue\u001b[39m\u001b[39m\"\u001b[39m, \u001b[39mNone\u001b[39;00m))\n\u001b[0;32m    346\u001b[0m     \u001b[39mreturn\u001b[39;00m response\n",
      "File \u001b[1;32mc:\\Users\\SSAFY\\AppData\\Local\\Programs\\Python\\Python39\\lib\\site-packages\\selenium\\webdriver\\remote\\errorhandler.py:229\u001b[0m, in \u001b[0;36mErrorHandler.check_response\u001b[1;34m(self, response)\u001b[0m\n\u001b[0;32m    227\u001b[0m         alert_text \u001b[39m=\u001b[39m value[\u001b[39m\"\u001b[39m\u001b[39malert\u001b[39m\u001b[39m\"\u001b[39m]\u001b[39m.\u001b[39mget(\u001b[39m\"\u001b[39m\u001b[39mtext\u001b[39m\u001b[39m\"\u001b[39m)\n\u001b[0;32m    228\u001b[0m     \u001b[39mraise\u001b[39;00m exception_class(message, screen, stacktrace, alert_text)  \u001b[39m# type: ignore[call-arg]  # mypy is not smart enough here\u001b[39;00m\n\u001b[1;32m--> 229\u001b[0m \u001b[39mraise\u001b[39;00m exception_class(message, screen, stacktrace)\n",
      "\u001b[1;31mStaleElementReferenceException\u001b[0m: Message: stale element reference: stale element not found\n  (Session info: chrome=116.0.5845.180); For documentation on this error, please visit: https://www.selenium.dev/documentation/webdriver/troubleshooting/errors#stale-element-reference-exception\nStacktrace:\n\tGetHandleVerifier [0x00007FF722AC52A2+57122]\n\t(No symbol) [0x00007FF722A3EA92]\n\t(No symbol) [0x00007FF72290E3AB]\n\t(No symbol) [0x00007FF72291ABC3]\n\t(No symbol) [0x00007FF722912719]\n\t(No symbol) [0x00007FF72291167A]\n\t(No symbol) [0x00007FF722913D2F]\n\t(No symbol) [0x00007FF722913E20]\n\t(No symbol) [0x00007FF7229479B1]\n\t(No symbol) [0x00007FF722947E2C]\n\t(No symbol) [0x00007FF72293EC3C]\n\t(No symbol) [0x00007FF72296701F]\n\t(No symbol) [0x00007FF72293EB76]\n\t(No symbol) [0x00007FF7229671F0]\n\t(No symbol) [0x00007FF72297EB82]\n\t(No symbol) [0x00007FF722966DB3]\n\t(No symbol) [0x00007FF72293D2B1]\n\t(No symbol) [0x00007FF72293E494]\n\tGetHandleVerifier [0x00007FF722D6EF82+2849794]\n\tGetHandleVerifier [0x00007FF722DC1D24+3189156]\n\tGetHandleVerifier [0x00007FF722DBACAF+3160367]\n\tGetHandleVerifier [0x00007FF722B56D06+653702]\n\t(No symbol) [0x00007FF722A4A208]\n\t(No symbol) [0x00007FF722A462C4]\n\t(No symbol) [0x00007FF722A463F6]\n\t(No symbol) [0x00007FF722A367A3]\n\tBaseThreadInitThunk [0x00007FFA60617614+20]\n\tRtlUserThreadStart [0x00007FFA621C26B1+33]\n"
     ]
    }
   ],
   "source": [
    "from selenium import webdriver\n",
    "from selenium.webdriver.chrome.service import Service as ChromeService\n",
    "from selenium.webdriver.common.by import By\n",
    "import time\n",
    "# from selenium.webdriver.support.ui import WebDriverWait\n",
    "# from selenium.webdriver.support import expected_conditions as EC\n",
    "\n",
    "\n",
    "# 크롬 드라이버 경로 설정 (본인의 드라이버 경로로 변경)\n",
    "chrome_driver_path = \"../../../Desktop/chromedriver-win64/chromedriver.exe\"\n",
    "\n",
    "# Chrome 웹 드라이버 설정\n",
    "chrome_service = ChromeService(chrome_driver_path)\n",
    "driver = webdriver.Chrome(service=chrome_service)\n",
    "\n",
    "# 크롤링할 페이지 URL 설정\n",
    "url = \"https://finance.naver.com/news/mainnews.naver\"\n",
    "\n",
    "# 웹 페이지 열기\n",
    "driver.get(url)\n",
    "\n",
    "# 뉴스 기사 목록을 순회하기 전에 대기 시간 추가\n",
    "time.sleep(5)\n",
    "\n",
    "# 뉴스 기사 목록을 포함한 부분을 찾습니다.\n",
    "news_list = driver.find_elements(By.CSS_SELECTOR, \"ul.newsList li\")\n",
    "\n",
    "# 뉴스 기사 정보를 저장할 리스트\n",
    "articles = []\n",
    "\n",
    "'''\n",
    "# 뉴스 기사 목록을 순회하기 전에 대기\n",
    "wait = WebDriverWait(driver, 10)  # 최대 10초까지 대기\n",
    "\n",
    "# 예상 조건: 뉴스 목록 요소가 나타날 때까지 대기\n",
    "wait.until(EC.presence_of_all_elements_located((By.CSS_SELECTOR, \"ul.newsList li\")))\n",
    "'''\n",
    "\n",
    "# 뉴스 기사 목록을 순회하며 제목과 본문 수집\n",
    "for article in news_list:\n",
    "    # 뉴스 제목 추출\n",
    "    title = article.find_element(By.TAG_NAME, \"dd\").text.strip()\n",
    "    \n",
    "    # 뉴스 본문 링크 가져오기\n",
    "    article_link = article.find_element(By.TAG_NAME, \"a\").get_attribute(\"href\")\n",
    "    \n",
    "    # 뉴스 본문 페이지에 접근\n",
    "    driver.get(article_link)\n",
    "    \n",
    "    # 뉴스 본문 추출\n",
    "    article_content = driver.find_element(By.CSS_SELECTOR, \"#content.articlecont\").text.strip()\n",
    "    \n",
    "    # 데이터를 articles 리스트에 추가\n",
    "    articles.append(\n",
    "        {\n",
    "            \"title\": title,\n",
    "            \"content\": article_content\n",
    "        }\n",
    "    )\n",
    "    \n",
    "# 크롬 브라우저 종료\n",
    "driver.quit()\n",
    "\n",
    "# 수집한 뉴스 기사 출력\n",
    "for article in articles:\n",
    "    print(f\"뉴스 제목: {article['title']}\")\n",
    "    print(f\"뉴스 본문: {article['content']}\")\n",
    "    print(\"\\n\")\n"
   ]
  }
 ],
 "metadata": {
  "kernelspec": {
   "display_name": "Python 3",
   "language": "python",
   "name": "python3"
  },
  "language_info": {
   "codemirror_mode": {
    "name": "ipython",
    "version": 3
   },
   "file_extension": ".py",
   "mimetype": "text/x-python",
   "name": "python",
   "nbconvert_exporter": "python",
   "pygments_lexer": "ipython3",
   "version": "3.9.13"
  },
  "orig_nbformat": 4
 },
 "nbformat": 4,
 "nbformat_minor": 2
}
